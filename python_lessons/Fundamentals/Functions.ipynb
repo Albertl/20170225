{
 "cells": [
  {
   "cell_type": "markdown",
   "metadata": {
    "collapsed": true,
    "deletable": true,
    "editable": true
   },
   "source": [
    "# Functions\n",
    "Functions in Python are like mathematical functions.\n",
    "A function will take some values, do something to them or with them, and return something.\n",
    "Python functions can take any combination of data types and data structures\n",
    "and return a single value that can be any data type or data structure"
   ]
  },
  {
   "cell_type": "markdown",
   "metadata": {
    "deletable": true,
    "editable": true
   },
   "source": [
    "_Don't forget, to run a cell use the keys Shift+Enter_"
   ]
  },
  {
   "cell_type": "code",
   "execution_count": 5,
   "metadata": {
    "collapsed": true,
    "deletable": true,
    "editable": true
   },
   "outputs": [],
   "source": [
    "# a simple function that looks like a mathematical function\n",
    "# define a function called add_two_numbers that take 2 arguments: num1 and num2\n",
    "def add_two_numbers(num1, num2):\n",
    "    # Under the def must be indented\n",
    "    return num1 + num2 # use the return statment to tell the function what to return"
   ]
  },
  {
   "cell_type": "markdown",
   "metadata": {
    "deletable": true,
    "editable": true
   },
   "source": [
    "Use return ... to give a value back to the caller. A function that doesn’t explicitly return a value automatically returns None.\n",
    "\n",
    "Defining a function does not run it. You must call the function to execute the code it contains."
   ]
  },
  {
   "cell_type": "code",
   "execution_count": 6,
   "metadata": {
    "collapsed": false,
    "deletable": true,
    "editable": true
   },
   "outputs": [
    {
     "data": {
      "text/plain": [
       "995"
      ]
     },
     "execution_count": 6,
     "metadata": {},
     "output_type": "execute_result"
    }
   ],
   "source": [
    "add_two_numbers(905, 90)"
   ]
  },
  {
   "cell_type": "code",
   "execution_count": 7,
   "metadata": {
    "collapsed": false,
    "deletable": true,
    "editable": true
   },
   "outputs": [
    {
     "name": "stdout",
     "output_type": "stream",
     "text": [
      "995\n",
      "995\n"
     ]
    }
   ],
   "source": [
    "# written a different way\n",
    "# define a function called add_two_numbers that take 2 arguments: num1 and num2\n",
    "def add_two_numbers(num1, num2): \n",
    "    total = num1 + num2 # do the stuff\n",
    "    # This is the body of the function\n",
    "    return total # use the return statment to tell the function what to return\n",
    "    # return is important or else nothing with be returned\n",
    "\n",
    "result = add_two_numbers(905, 90)\n",
    "print(result)\n",
    "print(add_two_numbers(905, 90))"
   ]
  },
  {
   "cell_type": "markdown",
   "metadata": {
    "deletable": true,
    "editable": true
   },
   "source": [
    "### Question 00"
   ]
  },
  {
   "cell_type": "markdown",
   "metadata": {
    "deletable": true,
    "editable": true
   },
   "source": [
    "What does the following program print? (Don't actually code, just think about it.)\n",
    "```\n",
    "def report(pressure):\n",
    "    print(‘pressure is: ’, pressure)\n",
    "\n",
    "report(22.5)\n",
    "```"
   ]
  },
  {
   "cell_type": "markdown",
   "metadata": {
    "deletable": true,
    "editable": true
   },
   "source": [
    "### Practice 00"
   ]
  },
  {
   "cell_type": "markdown",
   "metadata": {
    "deletable": true,
    "editable": true
   },
   "source": [
    "“Adding” two strings produces their concatenation: 'a' + 'b' is 'ab'. Write a function called quote that takes two parameters called original and wrapper and returns a new string that has the wrapper character at the beginning and end of the original. \n",
    "\n",
    "A call to your function should look like this:\n",
    "```\n",
    "print(quote('name', '\"'))\n",
    "\"name\"\n",
    "```"
   ]
  },
  {
   "cell_type": "code",
   "execution_count": 8,
   "metadata": {
    "collapsed": false,
    "deletable": true,
    "editable": true
   },
   "outputs": [],
   "source": [
    "# write your function here\n",
    "def quote(original, wrapper):\n",
    "    return wrapper + original + wrapper"
   ]
  },
  {
   "cell_type": "code",
   "execution_count": 9,
   "metadata": {
    "collapsed": false,
    "deletable": true,
    "editable": true,
    "scrolled": true
   },
   "outputs": [
    {
     "name": "stdout",
     "output_type": "stream",
     "text": [
      "\"name\"\n"
     ]
    }
   ],
   "source": [
    "# Run this cell after defining your function\n",
    "print(quote('name', '\"'))"
   ]
  },
  {
   "cell_type": "markdown",
   "metadata": {
    "deletable": true,
    "editable": true
   },
   "source": [
    "### Practice 01"
   ]
  },
  {
   "cell_type": "markdown",
   "metadata": {
    "deletable": true,
    "editable": true
   },
   "source": [
    "If the variable s refers to a string, then s[0] is the string’s first character and s[-1] is its last. Write a function called outer that returns a string made up of just the first and last characters of its input. \n",
    "\n",
    "A call to your function should look like this:\n",
    "```\n",
    "print(outer('helium'))\n",
    "hm\n",
    "```"
   ]
  },
  {
   "cell_type": "code",
   "execution_count": 10,
   "metadata": {
    "collapsed": false,
    "deletable": true,
    "editable": true
   },
   "outputs": [],
   "source": [
    "# write your function here\n",
    "def outer(my_str):\n",
    "    return my_str[0]+my_str[-1]"
   ]
  },
  {
   "cell_type": "code",
   "execution_count": 11,
   "metadata": {
    "collapsed": false,
    "deletable": true,
    "editable": true
   },
   "outputs": [
    {
     "name": "stdout",
     "output_type": "stream",
     "text": [
      "hm\n"
     ]
    }
   ],
   "source": [
    "# Run this cell after defining your function\n",
    "print(outer('helium'))"
   ]
  },
  {
   "cell_type": "markdown",
   "metadata": {
    "deletable": true,
    "editable": true
   },
   "source": [
    "### Question 01"
   ]
  },
  {
   "cell_type": "markdown",
   "metadata": {
    "deletable": true,
    "editable": true
   },
   "source": [
    "Explain why the two lines of output appeared in the order they did.\n",
    "```\n",
    "def print_date(year, month, day):\n",
    "    joined = str(year) + '/' + str(month) + '/' + str(day)\n",
    "    print(joined)\n",
    "\n",
    "result = print_date(1871, 3, 19)\n",
    "print('result of call is:', result)\n",
    "```\n",
    "OUTPUT:\n",
    "\n",
    "1871/3/19 result of call is: None"
   ]
  },
  {
   "cell_type": "code",
   "execution_count": 12,
   "metadata": {
    "collapsed": false
   },
   "outputs": [
    {
     "name": "stdout",
     "output_type": "stream",
     "text": [
      "1871/3/19\n",
      "result of call is: 1871/3/19\n"
     ]
    }
   ],
   "source": [
    "def print_date(year, month, day):\n",
    "    joined = str(year) + '/' + str(month) + '/' + str(day)\n",
    "    print(joined)\n",
    "    #needs to also be returned!\n",
    "    return(joined)\n",
    "    \n",
    "result = print_date(1871, 3, 19)\n",
    "print('result of call is:', result)"
   ]
  },
  {
   "cell_type": "markdown",
   "metadata": {
    "deletable": true,
    "editable": true
   },
   "source": [
    "# COMMIT YOUR WORK\n",
    "Everytime you finish a function, you should commit your work."
   ]
  },
  {
   "cell_type": "markdown",
   "metadata": {
    "deletable": true,
    "editable": true
   },
   "source": [
    "## Why Use Functions?\n",
    "Functions let us break down our programs into smaller bits that can be reused and tested\n",
    "* Human beings can only keep a few items in working memory at a time.\n",
    "* Understand larger/more complicated ideas by understanding and combining pieces.\n",
    "    * Components in a machine.\n",
    "* Functions serve the same purpose in programs.\n",
    "    * Encapsulate complexity so that we can treat it as a single “thing”.\n",
    "* Also enables re-use.\n",
    "    * Write one time, use many times."
   ]
  },
  {
   "cell_type": "markdown",
   "metadata": {
    "collapsed": true,
    "deletable": true,
    "editable": true
   },
   "source": [
    "### Reusability\n",
    "Imagine a really big program with lots of lines of code.\n",
    "There is a section of code you want to use in a different part of the program.\n",
    "\n",
    "How do you reuse that part of the code?\n",
    "\n",
    "If you just have one big program then you have to copy and paste that bit of code where you want it to go, but if that bit was a function, you could just use that function\n",
    "\n",
    "\n",
    "Always keep both of these concepts in mind when writing programs.\n",
    "Try to write small functions that do one thing\n",
    "Your programs should be composed of lots of functions that do one thing\n",
    "Never have one giant function that does a million things."
   ]
  },
  {
   "cell_type": "markdown",
   "metadata": {
    "deletable": true,
    "editable": true
   },
   "source": [
    "## Our Problem\n",
    "**Last month we ran an experiment in the lab, but one of the windows was left open.**\n",
    "\n",
    "**If the temperature in the lab fell below 285 degrees Kelvin all of the data is ruined.**\n",
    "\n",
    "**Luckily a data logger was running, but unfortunately it only collects the temperature in Fahrenheit.**\n",
    "\n",
    "_Why is the time in a different format? To avoid difficulties during class with having to teach datetime stuff._\n",
    "\n",
    "**Example log data:**\n",
    "\n",
    "```\n",
    "beginTime,Temp\n",
    "42736.00,54\n",
    "42736.04,11.7\n",
    "42736.08,11.7\n",
    "```"
   ]
  },
  {
   "cell_type": "markdown",
   "metadata": {
    "deletable": true,
    "editable": true
   },
   "source": [
    "Write a function that converts temperatures from Fahrenheit to Kelvin. ((temp_f - 32) * (5/9)) + 273.15"
   ]
  },
  {
   "cell_type": "code",
   "execution_count": 13,
   "metadata": {
    "collapsed": false,
    "deletable": true,
    "editable": true
   },
   "outputs": [
    {
     "name": "stdout",
     "output_type": "stream",
     "text": [
      "273.15\n",
      "272.59444444444443\n"
     ]
    }
   ],
   "source": [
    "def fahr_to_kelvin(temp_f):\n",
    "    # write your function here\n",
    "    return ((temp_f - 32) * (5/9)) + 273.15\n",
    "\n",
    "print(fahr_to_kelvin(32))\n",
    "print(fahr_to_kelvin(31))"
   ]
  },
  {
   "cell_type": "markdown",
   "metadata": {
    "deletable": true,
    "editable": true
   },
   "source": [
    "##### COMMIT YOUR WORK"
   ]
  },
  {
   "cell_type": "markdown",
   "metadata": {
    "deletable": true,
    "editable": true
   },
   "source": [
    "### Documentation\n",
    "Along with the concept of resusability is documenation.\n",
    "\n",
    "While python is easy to read and follow, you will either need to share\n",
    "your code with others or you will forget what you did.\n",
    "\n",
    "You should strive to always add a sentance or two description of what the function does, as well as providing one or two examples."
   ]
  },
  {
   "cell_type": "code",
   "execution_count": 22,
   "metadata": {
    "collapsed": false,
    "deletable": true,
    "editable": true,
    "scrolled": true
   },
   "outputs": [
    {
     "name": "stdout",
     "output_type": "stream",
     "text": [
      "Help on built-in function round in module builtins:\n",
      "\n",
      "round(...)\n",
      "    round(number[, ndigits]) -> number\n",
      "    \n",
      "    Round a number to a given precision in decimal digits (default 0 digits).\n",
      "    This returns an int when called with one argument, otherwise the\n",
      "    same type as the number. ndigits may be negative.\n",
      "\n"
     ]
    }
   ],
   "source": [
    "help(round)"
   ]
  },
  {
   "cell_type": "markdown",
   "metadata": {
    "deletable": true,
    "editable": true
   },
   "source": [
    "Another way"
   ]
  },
  {
   "cell_type": "code",
   "execution_count": 14,
   "metadata": {
    "collapsed": false,
    "deletable": true,
    "editable": true
   },
   "outputs": [],
   "source": [
    "round?"
   ]
  },
  {
   "cell_type": "markdown",
   "metadata": {
    "deletable": true,
    "editable": true
   },
   "source": [
    "Another way"
   ]
  },
  {
   "cell_type": "code",
   "execution_count": 15,
   "metadata": {
    "collapsed": false,
    "deletable": true,
    "editable": true
   },
   "outputs": [
    {
     "ename": "SyntaxError",
     "evalue": "unexpected EOF while parsing (<ipython-input-15-619f1018e51f>, line 1)",
     "output_type": "error",
     "traceback": [
      "\u001b[0;36m  File \u001b[0;32m\"<ipython-input-15-619f1018e51f>\"\u001b[0;36m, line \u001b[0;32m1\u001b[0m\n\u001b[0;31m    round(#put your cursor and use the keys Shift+tab\u001b[0m\n\u001b[0m                                                     ^\u001b[0m\n\u001b[0;31mSyntaxError\u001b[0m\u001b[0;31m:\u001b[0m unexpected EOF while parsing\n"
     ]
    }
   ],
   "source": [
    "round(#put your cursor and use the keys Shift+tab"
   ]
  },
  {
   "cell_type": "markdown",
   "metadata": {
    "deletable": true,
    "editable": true
   },
   "source": [
    "Adding documentation to your own code is simple and easy.\n",
    "\n",
    "Immediately after defining the function add a documenation block with triple-quotes (''')\n",
    "```\n",
    "def add_two_numbers(num1, num2):\n",
    "    '''\n",
    "    This is where to put documentation\n",
    "    Return the sum of two numbers\n",
    "    Example:\n",
    "    >>> add_two_numbers(4, 19)\n",
    "    23\n",
    "    >>> add_two_numbers(-1, 5)\n",
    "    4\n",
    "    '''\n",
    "    return num1 + num2\n",
    "```\n",
    "Add documentation to your function fahr_to_kelvin."
   ]
  },
  {
   "cell_type": "code",
   "execution_count": 16,
   "metadata": {
    "collapsed": true
   },
   "outputs": [],
   "source": [
    "# Copy the function from above here, but this time add documentation\n",
    "def fahr_to_kelvin(temp_f):\n",
    "    #Add documentation using 3 single quotes\n",
    "    '''\n",
    "    What does this do?\n",
    "    Converts farenheit to Kelvin\n",
    "    \n",
    "    Examples?\n",
    "    print(fahr_to_kelvin(32))\n",
    "    '''\n",
    "    \n",
    "    # write your function here\n",
    "    return ((temp_f - 32) * (5/9)) + 273.15\n",
    "\n"
   ]
  },
  {
   "cell_type": "code",
   "execution_count": 17,
   "metadata": {
    "collapsed": false,
    "deletable": true,
    "editable": true
   },
   "outputs": [
    {
     "name": "stdout",
     "output_type": "stream",
     "text": [
      "Help on function fahr_to_kelvin in module __main__:\n",
      "\n",
      "fahr_to_kelvin(temp_f)\n",
      "    What does this do?\n",
      "    Converts farenheit to Kelvin\n",
      "    \n",
      "    Examples?\n",
      "    print(fahr_to_kelvin(32))\n",
      "\n"
     ]
    }
   ],
   "source": [
    "# Run this cell after adding documentation\n",
    "help(fahr_to_kelvin)"
   ]
  },
  {
   "cell_type": "markdown",
   "metadata": {
    "deletable": true,
    "editable": true
   },
   "source": [
    "##### COMMIT YOUR WORK"
   ]
  },
  {
   "cell_type": "markdown",
   "metadata": {
    "deletable": true,
    "editable": true
   },
   "source": [
    "**We read the packaging on the materials wrong! If the temperature in the lab fell below -5 degrees Celsius all of the data is ruined.**\n",
    "\n",
    "Write a function that converts temperatures from Kelvin into Celsius. temp_k - 273.15"
   ]
  },
  {
   "cell_type": "code",
   "execution_count": 18,
   "metadata": {
    "collapsed": false,
    "deletable": true,
    "editable": true
   },
   "outputs": [
    {
     "name": "stdout",
     "output_type": "stream",
     "text": [
      "0.0\n",
      "26.850000000000023\n"
     ]
    }
   ],
   "source": [
    "def kelvin_to_celsius(temp_k):\n",
    "    # write your function here\n",
    "    temp_c = temp_k-273.15\n",
    "    return(temp_c)\n",
    "    \n",
    "print(kelvin_to_celsius(273.15))\n",
    "print(kelvin_to_celsius(300))"
   ]
  },
  {
   "cell_type": "code",
   "execution_count": null,
   "metadata": {
    "collapsed": true,
    "deletable": true,
    "editable": true
   },
   "outputs": [],
   "source": [
    "# Did you add documentation?\n",
    "help(kelvin_to_celsius)"
   ]
  },
  {
   "cell_type": "markdown",
   "metadata": {
    "collapsed": true,
    "deletable": true,
    "editable": true
   },
   "source": [
    "##### COMMIT YOUR WORK"
   ]
  },
  {
   "cell_type": "markdown",
   "metadata": {
    "collapsed": true,
    "deletable": true,
    "editable": true
   },
   "source": [
    "**Because we know issues like this happen all of the time, let's prepare for the inevitability.**\n",
    "\n",
    "Write a function to convert Fahrenheit to Celsius, **without a formula**.\n",
    "\n",
    "We could write out the formula, but we don’t need to. Instead, we can compose the two functions we have already created"
   ]
  },
  {
   "cell_type": "code",
   "execution_count": 19,
   "metadata": {
    "collapsed": false,
    "deletable": true,
    "editable": true
   },
   "outputs": [
    {
     "data": {
      "text/plain": [
       "-17.77777777777777"
      ]
     },
     "execution_count": 19,
     "metadata": {},
     "output_type": "execute_result"
    }
   ],
   "source": [
    "# write your function here\n",
    "def far_to_celcius(temp_f):\n",
    "    '''\n",
    "    Given Fahrenheit returns celcius\n",
    "    '''\n",
    "    temp_k = fahr_to_kelvin(temp_f) #giving it temp in fahr\n",
    "    temp_c = kelvin_to_celsius(temp_k)\n",
    "    return temp_c\n",
    "\n",
    "far_to_celcius(0)"
   ]
  },
  {
   "cell_type": "markdown",
   "metadata": {
    "deletable": true,
    "editable": true
   },
   "source": [
    "This is our first taste of how larger programs are built: we define basic operations, then combine them in ever-larger chunks to get the effect we want. Real-life functions will usually be larger than the ones shown here — typically half a dozen to a few dozen lines — but they shouldn’t ever be much longer than that, or the next person who reads it won’t be able to understand what’s going on."
   ]
  },
  {
   "cell_type": "markdown",
   "metadata": {
    "collapsed": false,
    "deletable": true,
    "editable": true
   },
   "source": [
    "Did you write documenation?\n",
    "##### COMMIT YOUR WORK"
   ]
  },
  {
   "cell_type": "markdown",
   "metadata": {
    "collapsed": true,
    "deletable": true,
    "editable": true
   },
   "source": [
    "### Arguments in call are matched to parameters in definition.\n",
    "* Functions are most useful when they can operate on different data.\n",
    "* Specify parameters when defining a function.\n",
    "    * These become variables when the function is executed.\n",
    "    * Are assigned the arguments in the call (i.e., the values passed to the function)."
   ]
  },
  {
   "cell_type": "markdown",
   "metadata": {
    "deletable": true,
    "editable": true
   },
   "source": [
    "### Default Values\n",
    "If we usually want a function to work one way, but occasionally need it to do something else, we can allow people to pass a parameter when they need to but provide a default to make the normal case easier."
   ]
  },
  {
   "cell_type": "code",
   "execution_count": 20,
   "metadata": {
    "collapsed": false,
    "deletable": true,
    "editable": true
   },
   "outputs": [
    {
     "name": "stdout",
     "output_type": "stream",
     "text": [
      "no parameters:\n",
      "a: 1 b: 2 c: 3\n",
      "one parameter:\n",
      "a: 55 b: 2 c: 3\n",
      "two parameters:\n",
      "a: 55 b: 66 c: 3\n"
     ]
    }
   ],
   "source": [
    "#Default for a is 1, b is 2, c is 3\n",
    "def display(a=1, b=2, c=3):\n",
    "    print('a:', a, 'b:', b, 'c:', c)\n",
    "\n",
    "print('no parameters:')\n",
    "display()\n",
    "print('one parameter:')\n",
    "display(55)\n",
    "print('two parameters:')\n",
    "display(55, 66)"
   ]
  },
  {
   "cell_type": "markdown",
   "metadata": {
    "deletable": true,
    "editable": true
   },
   "source": [
    "As this example shows, parameters are matched up from left to right, and any that haven’t been given a value explicitly get their default value. We can override this behavior by naming the value as we pass it in:"
   ]
  },
  {
   "cell_type": "code",
   "execution_count": 21,
   "metadata": {
    "collapsed": false,
    "deletable": true,
    "editable": true
   },
   "outputs": [
    {
     "name": "stdout",
     "output_type": "stream",
     "text": [
      "only setting the value of c\n",
      "a: 1 b: 2 c: 77\n"
     ]
    }
   ],
   "source": [
    "print('only setting the value of c')\n",
    "display(c=77)"
   ]
  },
  {
   "cell_type": "markdown",
   "metadata": {
    "deletable": true,
    "editable": true
   },
   "source": [
    "**It looks like the logger actually can collect Celsius after all! Unfortunately the logger forgets what temperature type to log and has been intermittently logging both Celsius and Fahrenheit. And we have material that can not have a temperature greater than 80 degrees Fahrenheit!**\n",
    "\n",
    "**Example log data:**\n",
    "```\n",
    "beginTime,Temp,TempType\n",
    "42736.00,54,F\n",
    "42736.04,11.7,C\n",
    "42736.08,11.7,C\n",
    "```"
   ]
  },
  {
   "cell_type": "markdown",
   "metadata": {
    "deletable": true,
    "editable": true
   },
   "source": [
    "First, write a function to convert from Celsius to Fahrenheit. (9/5) * temp_c + 32"
   ]
  },
  {
   "cell_type": "code",
   "execution_count": 22,
   "metadata": {
    "collapsed": false,
    "deletable": true,
    "editable": true
   },
   "outputs": [
    {
     "data": {
      "text/plain": [
       "32.0"
      ]
     },
     "execution_count": 22,
     "metadata": {},
     "output_type": "execute_result"
    }
   ],
   "source": [
    "# write your function here\n",
    "def Cels_to_Fahr(temp_c):\n",
    "    temp_f = (9/5) * temp_c + 32\n",
    "    return temp_f\n",
    "\n",
    "Cels_to_Fahr(0)"
   ]
  },
  {
   "cell_type": "markdown",
   "metadata": {
    "deletable": true,
    "editable": true
   },
   "source": [
    "##### COMMIT YOUR WORK"
   ]
  },
  {
   "cell_type": "markdown",
   "metadata": {
    "deletable": true,
    "editable": true
   },
   "source": [
    "Now, write a function that either converts to fahrenheit or celsius based on a parameter, with a default assuming fahrenheit ('F')\n",
    "\n",
    "Remember if/else:"
   ]
  },
  {
   "cell_type": "code",
   "execution_count": 42,
   "metadata": {
    "collapsed": true,
    "deletable": true,
    "editable": true
   },
   "outputs": [],
   "source": [
    "def convert_temp(temp, temp_type='F'):\n",
    "    # write your documentation here\n",
    "    '''\n",
    "    Function converts to farenheit or celcius based on a parameter, with a default that \n",
    "    assumes farenheit. Requires existing functions:\n",
    "    Cels_to_Fahr\n",
    "    far_to_celcius\n",
    "    '''\n",
    "    # write your function here\n",
    "    if temp_type=='C':\n",
    "        new_temp = Cels_to_Fahr(temp) \n",
    "    elif temp_type=='F':\n",
    "        new_temp =  far_to_celcius(temp)\n",
    "    # else:\n",
    "    #    new_temp = \"Error\"\n",
    "            \n",
    "    return new_temp\n",
    "    \n",
    "    "
   ]
  },
  {
   "cell_type": "code",
   "execution_count": 41,
   "metadata": {
    "collapsed": false
   },
   "outputs": [
    {
     "data": {
      "text/plain": [
       "32.0"
      ]
     },
     "execution_count": 41,
     "metadata": {},
     "output_type": "execute_result"
    }
   ],
   "source": [
    "# A test\n",
    "convert_temp(0,'C')"
   ]
  },
  {
   "cell_type": "markdown",
   "metadata": {
    "deletable": true,
    "editable": true
   },
   "source": [
    "##### COMMIT YOUR WORK"
   ]
  },
  {
   "cell_type": "markdown",
   "metadata": {
    "deletable": true,
    "editable": true
   },
   "source": [
    "### Testability\n",
    "Imagine a really big program with lots of lines of code.  \n",
    "There is a problem somewhere in the code because you are not getting the results you expect\n",
    "\n",
    "How do you find the problem in your code?\n",
    "\n",
    "If your program is composed of lots of small functions that only do one thing then you can test each function individually.\n",
    "\n",
    "The full concept is beyond our workshop today, but it is simple enough, here is an example.\n",
    "\n",
    "Do your functions always work? What errors do you get? Can you change your functions to address those errors?\n",
    "\n",
    "_Hint: You can edit your functions above and then re-run the cell to update the function._"
   ]
  },
  {
   "cell_type": "code",
   "execution_count": 47,
   "metadata": {
    "collapsed": false,
    "deletable": true,
    "editable": true
   },
   "outputs": [
    {
     "ename": "AssertionError",
     "evalue": "",
     "output_type": "error",
     "traceback": [
      "\u001b[0;31m---------------------------------------------------------------------------\u001b[0m",
      "\u001b[0;31mAssertionError\u001b[0m                            Traceback (most recent call last)",
      "\u001b[0;32m<ipython-input-47-adeea7f57fce>\u001b[0m in \u001b[0;36m<module>\u001b[0;34m()\u001b[0m\n\u001b[1;32m     11\u001b[0m \u001b[0;34m\u001b[0m\u001b[0m\n\u001b[1;32m     12\u001b[0m \u001b[0mtest_4_result\u001b[0m \u001b[0;34m=\u001b[0m \u001b[0mconvert_temp\u001b[0m\u001b[0;34m(\u001b[0m\u001b[0;36m54.0\u001b[0m\u001b[0;34m)\u001b[0m\u001b[0;34m\u001b[0m\u001b[0m\n\u001b[0;32m---> 13\u001b[0;31m \u001b[0;32massert\u001b[0m \u001b[0mtest_4_result\u001b[0m\u001b[0;34m==\u001b[0m\u001b[0;36m12.2\u001b[0m\u001b[0;34m\u001b[0m\u001b[0m\n\u001b[0m\u001b[1;32m     14\u001b[0m \u001b[0;34m\u001b[0m\u001b[0m\n\u001b[1;32m     15\u001b[0m \u001b[0mtest_5_result\u001b[0m \u001b[0;34m=\u001b[0m \u001b[0mconvert_temp\u001b[0m\u001b[0;34m(\u001b[0m\u001b[0;36m12.2\u001b[0m\u001b[0;34m,\u001b[0m \u001b[0;34m'C'\u001b[0m\u001b[0;34m)\u001b[0m\u001b[0;34m\u001b[0m\u001b[0m\n",
      "\u001b[0;31mAssertionError\u001b[0m: "
     ]
    }
   ],
   "source": [
    "# Run this cell after writing convert_temp\n",
    "# Assert command compares two numbers\n",
    "# This creates some errors still, but the \n",
    "# point is to remind everyone to check things\n",
    "\n",
    "test_1_result = convert_temp(-40.0, 'F')\n",
    "assert test_1_result==-40.0\n",
    "\n",
    "test_2_result = convert_temp(0.0, 'C')\n",
    "assert test_2_result==32.0\n",
    "\n",
    "test_3_result = convert_temp(32.0, 'F')\n",
    "assert test_3_result==0.0\n",
    "\n",
    "test_4_result = convert_temp(54.0)\n",
    "assert test_4_result==12.2\n",
    "\n",
    "test_5_result = convert_temp(12.2, 'C')\n",
    "assert test_5_result==54.0\n",
    "\n",
    "# Did you handle strings instead of float?\n",
    "test_6_result = convert_temp(12.2, 'C')\n",
    "assert test_6_result==54.0"
   ]
  },
  {
   "cell_type": "markdown",
   "metadata": {
    "collapsed": true,
    "deletable": true,
    "editable": true
   },
   "source": [
    "##### COMMIT YOUR WORK"
   ]
  },
  {
   "cell_type": "markdown",
   "metadata": {
    "deletable": true,
    "editable": true
   },
   "source": [
    "Let's load the logger data.\n",
    "\n",
    "Below is a function that loads a file and loops over each line. \n",
    "\n",
    "Adjust the function to convert the temperature, and saves the temp to the right list.\n",
    "\n",
    "_Hint: You can add items to a list with append()_"
   ]
  },
  {
   "cell_type": "code",
   "execution_count": 51,
   "metadata": {
    "collapsed": true,
    "deletable": true,
    "editable": true
   },
   "outputs": [],
   "source": [
    "import csv"
   ]
  },
  {
   "cell_type": "code",
   "execution_count": 52,
   "metadata": {
    "collapsed": false
   },
   "outputs": [
    {
     "ename": "SyntaxError",
     "evalue": "invalid syntax (<ipython-input-52-0aeefd588c3b>, line 1)",
     "output_type": "error",
     "traceback": [
      "\u001b[0;36m  File \u001b[0;32m\"<ipython-input-52-0aeefd588c3b>\"\u001b[0;36m, line \u001b[0;32m1\u001b[0m\n\u001b[0;31m    help open\u001b[0m\n\u001b[0m            ^\u001b[0m\n\u001b[0;31mSyntaxError\u001b[0m\u001b[0;31m:\u001b[0m invalid syntax\n"
     ]
    }
   ],
   "source": [
    "help open"
   ]
  },
  {
   "cell_type": "code",
   "execution_count": 59,
   "metadata": {
    "collapsed": false,
    "deletable": true,
    "editable": true,
    "scrolled": false
   },
   "outputs": [
    {
     "name": "stdout",
     "output_type": "stream",
     "text": [
      "54 F\n",
      "12.222222222222229\n",
      "11.7 C\n",
      "53.06\n",
      "11.7 C\n",
      "53.06\n",
      "12.2 C\n",
      "53.96\n",
      "12.8 C\n",
      "55.040000000000006\n",
      "55 F\n",
      "12.777777777777771\n",
      "55 F\n",
      "12.777777777777771\n",
      "11.7 C\n",
      "53.06\n",
      "11.7 C\n",
      "53.06\n",
      "53.1 F\n",
      "11.722222222222229\n",
      "45 F\n",
      "7.2222222222222285\n",
      "7.2 C\n",
      "44.96\n",
      "46 F\n",
      "7.7777777777777715\n",
      "46.9 F\n",
      "8.277777777777771\n",
      "10 C\n",
      "50.0\n",
      "10.6 C\n",
      "51.08\n",
      "10 C\n",
      "50.0\n",
      "48.9 F\n",
      "9.388888888888914\n",
      "48.9 F\n",
      "9.388888888888914\n",
      "9.4 C\n",
      "48.92\n",
      "8.3 C\n",
      "46.94\n",
      "7.8 C\n",
      "46.04\n",
      "7.2 C\n",
      "44.96\n",
      "44.1 F\n",
      "6.7222222222222285\n",
      "43 F\n",
      "6.111111111111086\n",
      "43 F\n",
      "6.111111111111086\n",
      "6.1 C\n",
      "42.980000000000004\n",
      "5.6 C\n",
      "42.08\n",
      "42.1 F\n",
      "5.611111111111086\n",
      "2.8 C\n",
      "37.04\n",
      "3.3 C\n",
      "37.94\n",
      "3.9 C\n",
      "39.019999999999996\n",
      "6.1 C\n",
      "42.980000000000004\n",
      "7.8 C\n",
      "46.04\n",
      "48 F\n",
      "8.888888888888914\n",
      "10.6 C\n",
      "51.08\n",
      "12.8 C\n",
      "55.040000000000006\n",
      "55 F\n",
      "12.777777777777771\n",
      "55.9 F\n",
      "13.277777777777771\n",
      "55.9 F\n",
      "13.277777777777771\n",
      "12.8 C\n",
      "55.040000000000006\n",
      "11.7 C\n",
      "53.06\n",
      "10.6 C\n",
      "51.08\n",
      "50 F\n",
      "10.0\n",
      "51.1 F\n",
      "10.611111111111086\n",
      "48 F\n",
      "8.888888888888914\n",
      "48 F\n",
      "8.888888888888914\n",
      "7.8 C\n",
      "46.04\n",
      "45 F\n",
      "7.2222222222222285\n",
      "44.1 F\n",
      "6.7222222222222285\n",
      "41 F\n",
      "5.0\n",
      "39.9 F\n",
      "4.388888888888914\n",
      "5 C\n",
      "41.0\n",
      "39.9 F\n",
      "4.388888888888914\n",
      "39.9 F\n",
      "4.388888888888914\n",
      "4.4 C\n",
      "39.92\n",
      "43 F\n",
      "6.111111111111086\n",
      "10 C\n",
      "50.0\n",
      "11.7 C\n",
      "53.06\n",
      "55.9 F\n",
      "13.277777777777771\n",
      "59 F\n",
      "15.0\n",
      "17.2 C\n",
      "62.96\n",
      "17.2 C\n",
      "62.96\n",
      "63 F\n",
      "17.22222222222223\n",
      "16.7 C\n",
      "62.06\n",
      "60.1 F\n",
      "15.611111111111086\n",
      "57.9 F\n",
      "14.388888888888914\n",
      "13.9 C\n",
      "57.019999999999996\n",
      "13.9 C\n",
      "57.019999999999996\n",
      "54 F\n",
      "12.222222222222229\n",
      "53.1 F\n",
      "11.722222222222229\n",
      "53.1 F\n",
      "11.722222222222229\n",
      "10.6 C\n",
      "51.08\n",
      "50 F\n",
      "10.0\n",
      "11.1 C\n",
      "51.980000000000004\n",
      "48.9 F\n",
      "9.388888888888914\n",
      "8.9 C\n",
      "48.019999999999996\n",
      "7.8 C\n",
      "46.04\n",
      "44.1 F\n",
      "6.7222222222222285\n",
      "7.2 C\n",
      "44.96\n",
      "48 F\n",
      "8.888888888888914\n",
      "12.2 C\n",
      "53.96\n",
      "13.9 C\n",
      "57.019999999999996\n",
      "16.7 C\n",
      "62.06\n",
      "66 F\n",
      "18.888888888888914\n",
      "19.4 C\n",
      "66.92\n",
      "20 C\n",
      "68.0\n",
      "69.1 F\n",
      "20.611111111111086\n",
      "18.9 C\n",
      "66.02\n",
      "16.1 C\n",
      "60.980000000000004\n",
      "15 C\n",
      "59.0\n",
      "12.2 C\n",
      "53.96\n",
      "52 F\n",
      "11.111111111111086\n",
      "50 F\n",
      "10.0\n",
      "48.9 F\n",
      "9.388888888888914\n",
      "9.4 C\n",
      "48.92\n",
      "46.9 F\n",
      "8.277777777777771\n",
      "46.9 F\n",
      "8.277777777777771\n",
      "7.8 C\n",
      "46.04\n",
      "8.3 C\n",
      "46.94\n",
      "45 F\n",
      "7.2222222222222285\n",
      "44.1 F\n",
      "6.7222222222222285\n",
      "7.2 C\n",
      "44.96\n",
      "7.8 C\n",
      "46.04\n",
      "8.9 C\n",
      "48.019999999999996\n",
      "11.7 C\n",
      "53.06\n",
      "57.9 F\n",
      "14.388888888888914\n",
      "66 F\n",
      "18.888888888888914\n",
      "66 F\n",
      "18.888888888888914\n",
      "69.1 F\n",
      "20.611111111111086\n",
      "69.1 F\n",
      "20.611111111111086\n",
      "69.1 F\n",
      "20.611111111111086\n",
      "19.4 C\n",
      "66.92\n",
      "17.8 C\n",
      "64.03999999999999\n",
      "16.1 C\n",
      "60.980000000000004\n",
      "60.1 F\n",
      "15.611111111111086\n",
      "57 F\n",
      "13.888888888888914\n",
      "55 F\n",
      "12.777777777777771\n",
      "11.7 C\n",
      "53.06\n",
      "52 F\n",
      "11.111111111111086\n",
      "51.1 F\n",
      "10.611111111111086\n",
      "53.1 F\n",
      "11.722222222222229\n",
      "48.9 F\n",
      "9.388888888888914\n",
      "10 C\n",
      "50.0\n",
      "8.9 C\n",
      "48.019999999999996\n",
      "50 F\n",
      "10.0\n",
      "53.1 F\n",
      "11.722222222222229\n",
      "50 F\n",
      "10.0\n",
      "54 F\n",
      "12.222222222222229\n",
      "13.9 C\n",
      "57.019999999999996\n",
      "14.4 C\n",
      "57.92\n",
      "60.1 F\n",
      "15.611111111111086\n",
      "16.1 C\n",
      "60.980000000000004\n",
      "16.1 C\n",
      "60.980000000000004\n",
      "62.1 F\n",
      "16.72222222222223\n",
      "62.1 F\n",
      "16.72222222222223\n",
      "16.1 C\n",
      "60.980000000000004\n",
      "14.4 C\n",
      "57.92\n",
      "54 F\n",
      "12.222222222222229\n",
      "54 F\n",
      "12.222222222222229\n",
      "48.9 F\n",
      "9.388888888888914\n",
      "46.9 F\n",
      "8.277777777777771\n",
      "45 F\n",
      "7.2222222222222285\n",
      "6.7 C\n",
      "44.06\n",
      "42.1 F\n",
      "5.611111111111086\n",
      "43 F\n",
      "6.111111111111086\n",
      "6.7 C\n",
      "44.06\n",
      "5.6 C\n",
      "42.08\n",
      "5.6 C\n",
      "42.08\n",
      "41 F\n",
      "5.0\n",
      "5 C\n",
      "41.0\n",
      "39 F\n",
      "3.888888888888914\n",
      "48.9 F\n",
      "9.388888888888914\n",
      "51.1 F\n",
      "10.611111111111086\n",
      "59 F\n",
      "15.0\n",
      "16.1 C\n",
      "60.980000000000004\n",
      "17.8 C\n",
      "64.03999999999999\n",
      "68 F\n",
      "20.0\n",
      "20 C\n",
      "68.0\n",
      "70 F\n",
      "21.111111111111086\n",
      "21.1 C\n",
      "69.98\n",
      "64.9 F\n",
      "18.27777777777777\n",
      "15.6 C\n",
      "60.08\n",
      "57.9 F\n",
      "14.388888888888914\n",
      "11.7 C\n",
      "53.06\n",
      "51.1 F\n",
      "10.611111111111086\n",
      "12.2 C\n",
      "53.96\n",
      "11.7 C\n",
      "53.06\n",
      "([], [])\n"
     ]
    }
   ],
   "source": [
    "def convert_file(file_name='data/LabTempHourly20170101_20170107.csv'):\n",
    "    '''\n",
    "    Takes a csv file and converts each temperature to F or C and saves\n",
    "    both F and C to as list to return.\n",
    "    >>> convert_file(file_name='data/test_file.csv')\n",
    "    ([-40.0, 32.0, 54.0], [-40.0, 0.0, 12.2])\n",
    "    '''\n",
    "    with open(file_name, 'r') as csvfile:\n",
    "        reader = csv.reader(csvfile)\n",
    "        temps_fahr = []\n",
    "        temps_celsius = []\n",
    "        for row in reader:\n",
    "            if row [1] != \"Temp\":\n",
    "                temp = row[1]\n",
    "                temp_type = row[2]\n",
    "                print(temp, temp_type)\n",
    "                out = convert_temp(float(temp), temp_type) \n",
    "                print(out)\n",
    "    return temps_fahr, temps_celsius\n",
    "\n",
    "print(convert_file())"
   ]
  },
  {
   "cell_type": "markdown",
   "metadata": {
    "collapsed": true,
    "deletable": true,
    "editable": true
   },
   "source": [
    "##### COMMIT YOUR WORK"
   ]
  },
  {
   "cell_type": "markdown",
   "metadata": {
    "deletable": true,
    "editable": true
   },
   "source": [
    "**It turns out that the logger can only log 7 days at a time before dumping the data.**\n",
    "\n",
    "Use glob.glob to find sets of files whose names match a pattern\n",
    "* In Unix, the term “globbing” means “matching a set of files with a pattern”.\n",
    "* The most common patterns are:\n",
    "    * \\* meaning “match zero or more characters”\n",
    "    * ? meaning “match exactly one character”\n",
    "* Provided in Python by the glob library, which provides a function also called glob.\n",
    "* E.g., glob.glob('*.txt') matches all files in the current directory whose names end with .txt.\n",
    "* Result is a (possibly empty) list of character strings."
   ]
  },
  {
   "cell_type": "code",
   "execution_count": null,
   "metadata": {
    "collapsed": true,
    "deletable": true,
    "editable": true
   },
   "outputs": [],
   "source": [
    "import glob\n",
    "print('all csv files in data directory:', glob.glob('data/*.csv'))"
   ]
  },
  {
   "cell_type": "code",
   "execution_count": null,
   "metadata": {
    "collapsed": true,
    "deletable": true,
    "editable": true
   },
   "outputs": [],
   "source": [
    "print('all PDB files:', glob.glob('*.pdb'))"
   ]
  },
  {
   "cell_type": "markdown",
   "metadata": {
    "deletable": true,
    "editable": true
   },
   "source": [
    "Write a function that finds all of the files in a folder using glob and for to process batches of files.\n",
    "* Helps a lot if the files are named and stored systematically and consistently so that simple patterns will find the right data."
   ]
  },
  {
   "cell_type": "code",
   "execution_count": null,
   "metadata": {
    "collapsed": true,
    "deletable": true,
    "editable": true
   },
   "outputs": [],
   "source": [
    "def find_csvs(dir):\n",
    "    # write your documentation here\n",
    "    # write your function here"
   ]
  },
  {
   "cell_type": "markdown",
   "metadata": {},
   "source": [
    "Are all of those the right files? Maybe we want to exlude one? Adjust the glob statement to exlude unwanted files."
   ]
  },
  {
   "cell_type": "markdown",
   "metadata": {
    "deletable": true,
    "editable": true
   },
   "source": [
    "##### COMMIT YOUR WORK"
   ]
  },
  {
   "cell_type": "markdown",
   "metadata": {
    "deletable": true,
    "editable": true
   },
   "source": [
    "Now bring it together. Use the find_csvs function and the convert_file to get all of the temps for the month of January.\n",
    "\n",
    " _Hint, you can use extend(newlist) to add items of a list to another list._"
   ]
  },
  {
   "cell_type": "code",
   "execution_count": null,
   "metadata": {
    "collapsed": true,
    "deletable": true,
    "editable": true
   },
   "outputs": [],
   "source": [
    "def month_temps(dir):\n",
    "    # write your documentation here\n",
    "    # write your function here\n",
    "    return month_fahr, month_cels\n",
    "\n",
    "print(month_temps('data'))"
   ]
  },
  {
   "cell_type": "markdown",
   "metadata": {
    "deletable": true,
    "editable": true
   },
   "source": [
    "## Let's plot our temperatures!"
   ]
  },
  {
   "cell_type": "markdown",
   "metadata": {
    "deletable": true,
    "editable": true
   },
   "source": [
    "### matplotlib is the most widely used scientific plotting library in Python.\n",
    "* Commonly use a sub-library called matplotlib.pyplot.\n",
    "* The Jupyter Notebook will render plots inline if we ask it to using a “magic” command."
   ]
  },
  {
   "cell_type": "code",
   "execution_count": null,
   "metadata": {
    "collapsed": true,
    "deletable": true,
    "editable": true
   },
   "outputs": [],
   "source": [
    "%matplotlib inline\n",
    "import matplotlib.pyplot as plt"
   ]
  },
  {
   "cell_type": "markdown",
   "metadata": {
    "deletable": true,
    "editable": true
   },
   "source": [
    "Simple plots are then (fairly) simple to create."
   ]
  },
  {
   "cell_type": "code",
   "execution_count": null,
   "metadata": {
    "collapsed": false,
    "deletable": true,
    "editable": true,
    "scrolled": true
   },
   "outputs": [],
   "source": [
    "x = [1, 2, 3, 4, 5]\n",
    "y = [2, 4, 6, 8, 10]\n",
    "\n",
    "plt.plot(x, y)\n",
    "plt.xlabel('Numbers')\n",
    "plt.ylabel('Doubles')\n",
    "plt.legend(['Line'])"
   ]
  },
  {
   "cell_type": "markdown",
   "metadata": {
    "deletable": true,
    "editable": true
   },
   "source": [
    "Write the last function to plot the temperature in Fahrenheit or Celsius.\n",
    "\n",
    "_Hint: Use list(range(len(monthtemp)) for the x-axis_"
   ]
  },
  {
   "cell_type": "code",
   "execution_count": null,
   "metadata": {
    "collapsed": true,
    "deletable": true,
    "editable": true
   },
   "outputs": [],
   "source": [
    "# write your function here"
   ]
  },
  {
   "cell_type": "markdown",
   "metadata": {
    "deletable": true,
    "editable": true
   },
   "source": [
    "## Final Questions\n",
    "1. Is the experiment ruined? (If the temperature in the lab fell below -5 degrees Celsius all of the data is ruined.)\n",
    "2. Is the experiment ruined, because of the material that can not have a temperature greater than 80 degrees Fahrenheit?\n",
    "#### Extra\n",
    "3. Is the experiment ruined according to the first read of material? (If the temperature in the lab fell below 285 degrees Kelvin all of the data is ruined.)\n",
    "4. How could you adjust the above convert_file function to get the date information?\n",
    "    * Can you plot temperature vs datetime?"
   ]
  },
  {
   "cell_type": "code",
   "execution_count": null,
   "metadata": {
    "collapsed": true,
    "deletable": true,
    "editable": true
   },
   "outputs": [],
   "source": []
  }
 ],
 "metadata": {
  "kernelspec": {
   "display_name": "Python 3",
   "language": "python",
   "name": "python3"
  },
  "language_info": {
   "codemirror_mode": {
    "name": "ipython",
    "version": 3
   },
   "file_extension": ".py",
   "mimetype": "text/x-python",
   "name": "python",
   "nbconvert_exporter": "python",
   "pygments_lexer": "ipython3",
   "version": "3.6.0"
  }
 },
 "nbformat": 4,
 "nbformat_minor": 2
}
